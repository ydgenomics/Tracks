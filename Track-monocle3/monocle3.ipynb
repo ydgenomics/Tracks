{
 "cells": [
  {
   "cell_type": "markdown",
   "id": "b6668f79",
   "metadata": {},
   "source": [
    "# Clustering and classifying your cells\n",
    "Single-cell experiments are often performed on tissues containing many cell types. Monocle 3 provides a simple set of functions you can use to group your cells according to their gene expression profiles into clusters. Often cells form clusters that correspond to one cell type or a set of highly related cell types. Monocle 3 uses techniques to do this that are widely accepted in single-cell RNA-seq analysis and similar to the approaches used by Seurat, scanpy, and other tools.\n",
    "In this section, you will learn how to cluster cells using Monocle 3. We will demonstrate the main functions used for clustering with the C. elegans data from Cao & Packer et al. This study described how to do single-cell RNA-seq with combinatorial indexing in a protocol called \"sci-RNA-seq\". Cao & Packer et al. used sci-RNA-seq to produce the first single-cell RNA-seq analysis of a whole animal, so there are many cell types represented in the data. You can learn more about the dataset and see how the authors performed the original analysis at the UW Genome Sciences RNA Atlas of the Worm site.\n"
   ]
  },
  {
   "cell_type": "markdown",
   "id": "56389f1b",
   "metadata": {},
   "source": [
    "You can load the data into Monocle 3 like this:"
   ]
  },
  {
   "cell_type": "code",
   "execution_count": null,
   "id": "e2d15a7e",
   "metadata": {
    "vscode": {
     "languageId": "plaintext"
    }
   },
   "outputs": [],
   "source": [
    "library(monocle3)\n",
    "library(dplyr) # imported for some downstream data manipulation\n",
    "\n",
    "expression_matrix <- readRDS(url(\"https://depts.washington.edu:/trapnell-lab/software/monocle3/celegans/data/cao_l2_expression.rds\"))\n",
    "cell_metadata <- readRDS(url(\"https://depts.washington.edu:/trapnell-lab/software/monocle3/celegans/data/cao_l2_colData.rds\"))\n",
    "gene_annotation <- readRDS(url(\"https://depts.washington.edu:/trapnell-lab/software/monocle3/celegans/data/cao_l2_rowData.rds\"))\n",
    "\n",
    "cds <- new_cell_data_set(expression_matrix,\n",
    "                         cell_metadata = cell_metadata,\n",
    "                         gene_metadata = gene_annotation)"
   ]
  },
  {
   "cell_type": "markdown",
   "id": "315df00a",
   "metadata": {},
   "source": [
    "## Pre-process the data\n",
    "Now that the data's all loaded up, we need to pre-process it. This step is where you tell Monocle 3 how you want to normalize the data, whether to use Principal Components Analysis (the standard for RNA-seq) or Latent Semantic Indexing (common in ATAC-seq), and how to remove any batch effects. We will just use the standard PCA method in this demonstration. When using PCA, you should specify the number of principal components you want Monocle to compute."
   ]
  },
  {
   "cell_type": "code",
   "execution_count": null,
   "id": "d400e1c4",
   "metadata": {
    "vscode": {
     "languageId": "plaintext"
    }
   },
   "outputs": [],
   "source": [
    "cds <- preprocess_cds(cds, num_dim = 100)"
   ]
  },
  {
   "cell_type": "markdown",
   "id": "1ae0bcdb",
   "metadata": {},
   "source": [
    "It's a good idea to check that you're using enough PCs to capture most of the variation in gene expression across all the cells in the data set. You can look at the fraction of variation explained by each PC using `plot_pc_variance_explained()`:"
   ]
  },
  {
   "cell_type": "code",
   "execution_count": null,
   "id": "68229fe6",
   "metadata": {
    "vscode": {
     "languageId": "plaintext"
    }
   },
   "outputs": [],
   "source": [
    "plot_pc_variance_explained(cds)"
   ]
  },
  {
   "cell_type": "markdown",
   "id": "2c5b825e",
   "metadata": {},
   "source": [
    "We can see that using more than 100 PCs would capture only a small amount of additional variation, and each additional PC makes downstream steps in Monocle slower."
   ]
  },
  {
   "cell_type": "markdown",
   "id": "cd1ecf4e",
   "metadata": {},
   "source": [
    "## Reduce dimensionality and visualize the cells\n",
    "Now we're ready to visualize the cells. To do so, you can use either t-SNE, which is very popular in single-cell RNA-seq, or UMAP, which is increasingly common. Monocle 3 uses UMAP by default, as we feel that it is both faster and better suited for clustering and trajectory analysis in RNA-seq. To reduce the dimensionality of the data down into the X, Y plane so we can plot it easily, call `reduce_dimension()`:"
   ]
  },
  {
   "cell_type": "code",
   "execution_count": null,
   "id": "d1d45cc2",
   "metadata": {
    "vscode": {
     "languageId": "plaintext"
    }
   },
   "outputs": [],
   "source": [
    "cds <- reduce_dimension(cds)"
   ]
  },
  {
   "cell_type": "markdown",
   "id": "59906931",
   "metadata": {},
   "source": [
    "To plot the data, use Monocle's main plotting function, `plot_cells()`:"
   ]
  },
  {
   "cell_type": "code",
   "execution_count": null,
   "id": "6f58eff3",
   "metadata": {
    "vscode": {
     "languageId": "plaintext"
    }
   },
   "outputs": [],
   "source": [
    "plot_cells(cds)"
   ]
  },
  {
   "cell_type": "markdown",
   "id": "447e109a",
   "metadata": {},
   "source": [
    "Each point in the plot above represents a different cell in the `cell_data_set` object `cds`. As you can see the cells form many groups, some with thousands of cells, some with only a few. Cao & Packer annotated each cell according to type manually by looking at which genes it expresses. We can color the cells in the UMAP plot by the authors' original annotations using the `color_cells_by` argument to `plot_cells()`."
   ]
  },
  {
   "cell_type": "code",
   "execution_count": null,
   "id": "056a3947",
   "metadata": {
    "vscode": {
     "languageId": "plaintext"
    }
   },
   "outputs": [],
   "source": [
    "plot_cells(cds, color_cells_by=\"cao_cell_type\")"
   ]
  },
  {
   "cell_type": "markdown",
   "id": "99a8b273",
   "metadata": {},
   "source": [
    "You can see that many of the cell types land very close to one another in the UMAP plot.\n",
    "\n",
    "Except for a few cases described in a moment, `color_cells_by` can be the name of any column in `colData(cds)`. Note that when `color_cells_by` is a categorical variable, labels are added to the plot, with each label positioned roughly in the middle of all the cells that have that label.\n",
    "\n",
    "You can also color your cells according to how much of a gene or set of genes they express:"
   ]
  },
  {
   "cell_type": "markdown",
   "id": "acac7903",
   "metadata": {},
   "source": [
    "> ## Faster clustering with UMAP\n",
    "> If you have a relatively large dataset (with >10,000 cells or more), you may want to take advantage of options that can accelerate UMAP. Passing `umap.fast_sgd=TRUE` to `reduce_dimension()` will use a fast stochastic gradient descent method inside of UMAP. If your computer has multiple cores, you can use the `cores` argument to make UMAP multithreaded. However, invoking `reduce_dimension()` with either of these options will make it produce slighly different output each time you run it. If this is acceptable to you, you could see signifant reductions in the running time of `reduction_dimension()`."
   ]
  },
  {
   "cell_type": "markdown",
   "id": "9646107e",
   "metadata": {},
   "source": [
    "If you want, you can also use t-SNE to visualize your data. First, call reduce_dimension with reduction_method=\"tSNE\"."
   ]
  },
  {
   "cell_type": "code",
   "execution_count": null,
   "id": "55c418ac",
   "metadata": {
    "vscode": {
     "languageId": "plaintext"
    }
   },
   "outputs": [],
   "source": [
    "cds <- reduce_dimension(cds, reduction_method=\"tSNE\")"
   ]
  },
  {
   "cell_type": "markdown",
   "id": "182fbf94",
   "metadata": {},
   "source": [
    "Then, when you call `plot_cells()`, pass `reduction_method=\"tSNE\"` to it as well:"
   ]
  },
  {
   "cell_type": "code",
   "execution_count": null,
   "id": "1087c21e",
   "metadata": {
    "vscode": {
     "languageId": "plaintext"
    }
   },
   "outputs": [],
   "source": [
    "plot_cells(cds, reduction_method=\"tSNE\", color_cells_by=\"cao_cell_type\")"
   ]
  },
  {
   "cell_type": "markdown",
   "id": "e290cd4c",
   "metadata": {},
   "source": [
    "You can actually use UMAP and t-SNE on the same `cds` object - one won't overwrite the results of the other. But you must specify which one you want in downstream functions like `plot_cells`."
   ]
  },
  {
   "cell_type": "markdown",
   "id": "ba0bea76",
   "metadata": {},
   "source": [
    "## Check for and remove batch effects\n",
    "When performing gene expression analysis, it's important to check for batch effects, which are systematic differences in the transcriptome of cells measured in different experimental batches. These could be technical in nature, such as those introduced during the single-cell RNA-seq protocol, or biological, such as those that might arise from different litters of mice. How to recognize batch effects and account for them so that they don't confound your analysis can be a complex issue, but Monocle provides tools for dealing with them.\n",
    "\n",
    "You should always check for batch effects when you perform dimensionality reduction. You should add a column to the `colData` that encodes which batch each cell is from. Then you can simply color the cells by batch. Cao & Packer et al included a \"plate\" annotation in their data, which specifies which sci-RNA-seq plate each cell originated from. Coloring the UMAP by plate reveals:"
   ]
  },
  {
   "cell_type": "code",
   "execution_count": null,
   "id": "b3c90814",
   "metadata": {
    "vscode": {
     "languageId": "plaintext"
    }
   },
   "outputs": [],
   "source": [
    "plot_cells(cds, color_cells_by=\"plate\", label_cell_groups=FALSE)"
   ]
  }
 ],
 "metadata": {
  "language_info": {
   "name": "python"
  }
 },
 "nbformat": 4,
 "nbformat_minor": 5
}
